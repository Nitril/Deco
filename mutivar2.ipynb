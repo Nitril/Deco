{
 "metadata": {
  "language_info": {
   "codemirror_mode": {
    "name": "ipython",
    "version": 3
   },
   "file_extension": ".py",
   "mimetype": "text/x-python",
   "name": "python",
   "nbconvert_exporter": "python",
   "pygments_lexer": "ipython3",
   "version": "3.8.5-final"
  },
  "orig_nbformat": 2,
  "kernelspec": {
   "name": "python3",
   "display_name": "Python 3",
   "language": "python"
  }
 },
 "nbformat": 4,
 "nbformat_minor": 2,
 "cells": [
  {
   "cell_type": "code",
   "execution_count": 2,
   "metadata": {},
   "outputs": [],
   "source": [
    "#ta for long term short memory\n",
    "import pyodbc\n",
    "from pandas import DataFrame\n",
    "from pandas import concat\n",
    "from sklearn.preprocessing import LabelEncoder\n",
    "from sklearn.preprocessing import MinMaxScaler"
   ]
  },
  {
   "cell_type": "code",
   "execution_count": null,
   "metadata": {},
   "outputs": [],
   "source": [
    "server = 'tcp:illidan.database.windows.net' \n",
    "database = 'Traffic_Pollution' \n",
    "username = 'silax' \n",
    "password = 'Polska0!'  \n",
    "cnxn = pyodbc.connect('DRIVER={ODBC Driver 17 for SQL Server};SERVER='+server+';DATABASE='+database+';UID='+username+';PWD='+ password)\n",
    "cursor = cnxn.cursor()\n",
    "createQuery = '''\n",
    "DROP TABLE IF EXISTS dbo.RowProcessing\n",
    "SELECT identity(int,1,1) AS CID, [_datetime], [id], [_value], ROW_NUMBER() Over (Partition By [_datetime] Order By [_datetime]) As RowID\n",
    "into dbo.RowProcessing\n",
    "FROM [dbo].[Readings]\n",
    "WHERE id IN (2766, 2768, 2770, 2774, 17896)\n",
    "\tAND [_datetime] > \\'2020-09-30 13:00:00.000\\'\n",
    "\tORDER BY [_datetime], [id]'''\n",
    "\n",
    "cursor.execute(createQuery)\n",
    "cursor.commit()"
   ]
  },
  {
   "cell_type": "code",
   "execution_count": null,
   "metadata": {},
   "outputs": [],
   "source": [
    "from pandas import read_csv\n",
    "from matplotlib import pyplot\n",
    "# load dataset\n",
    "dataset = read_csv('pollution.csv', header=0, index_col=0)\n",
    "values = dataset.values\n",
    "# specify columns to plot\n",
    "groups = [0, 1, 2, 3, 5, 6, 7]\n",
    "i = 1\n",
    "# plot each column\n",
    "pyplot.figure()\n",
    "for group in groups:\n",
    "\tpyplot.subplot(len(groups), 1, i)\n",
    "\tpyplot.plot(values[:, group])\n",
    "\tpyplot.title(dataset.columns[group], y=0.5, loc='right')\n",
    "\ti += 1\n",
    "pyplot.show()"
   ]
  },
  {
   "cell_type": "code",
   "execution_count": 1,
   "metadata": {},
   "outputs": [
    {
     "output_type": "stream",
     "name": "stdout",
     "text": [
      "                     Difference\nTimestamp                      \n2020-08-17 10:00:00    0.884592\n2020-08-17 11:00:00    0.879456\n2020-08-17 12:00:00    0.741692\n2020-08-17 13:00:00    0.562538\n2020-08-17 14:00:00    0.415408\n2020-08-17 15:00:00    0.553172\n2020-08-17 16:00:00    0.401813\n2020-08-17 17:00:00    0.372205\n2020-08-17 18:00:00    0.715408\n2020-08-17 19:00:00    0.435347\n2020-08-17 20:00:00    1.093656\n2020-08-17 21:00:00    0.749245\n2020-08-17 22:00:00    0.936556\n2020-08-17 23:00:00    0.876133\n2020-08-18 00:00:00    0.876133\n2020-08-18 01:00:00    0.876133\n2020-08-18 02:00:00    0.889426\n2020-08-18 03:00:00    0.876133\n2020-08-18 04:00:00    0.821450\n2020-08-18 05:00:00    0.806042\n2020-08-18 06:00:00    0.557100\n2020-08-18 07:00:00    0.620242\n2020-08-18 08:00:00    0.567372\n2020-08-18 09:00:00    0.565861\n2020-08-18 10:00:00    0.506042\n2020-08-18 11:00:00    0.697583\n"
     ]
    }
   ],
   "source": [
    "import os\n",
    "import datetime\n",
    "\n",
    "import IPython\n",
    "import IPython.display\n",
    "import matplotlib as mpl\n",
    "import matplotlib.pyplot as plt\n",
    "import numpy as np\n",
    "import pandas as pd\n",
    "import seaborn as sns\n",
    "import tensorflow as tf\n",
    "import pyodbc\n",
    "\n",
    "# server = 'myserver,port' # to specify an alternate port\n",
    "server = 'tcp:illidan.database.windows.net' \n",
    "database = 'Traffic_Pollution' \n",
    "username = 'silax' \n",
    "password = 'Polska0!'  \n",
    "cnxn = pyodbc.connect('DRIVER={ODBC Driver 17 for SQL Server};SERVER='+server+';DATABASE='+database+';UID='+username+';PWD='+ password)\n",
    "cursor = cnxn.cursor()\n",
    "# select 26 rows from SQL table to insert in dataframe.\n",
    "query = '''SELECT \n",
    "        \n",
    "       [Timestamp]\n",
    "       ,[Speed_Uncapped]/[Free_Flow] AS Difference      \n",
    "      \n",
    "  FROM [dbo].[FactFlow]\n",
    "  WHERE Station = 401 \n",
    "  AND StreetKey = 50\n",
    "  AND Timestamp > \\'2021-01-01 00:00:00\\' \n",
    "  \n",
    "  \n",
    "  ORDER BY Timestamp, StreetKey''' \n",
    "\n",
    "df = pd.read_sql(query, cnxn,  index_col=['Timestamp'], parse_dates=['Timestamp'])\n",
    "print(df.tail(26))"
   ]
  },
  {
   "cell_type": "code",
   "execution_count": 2,
   "metadata": {},
   "outputs": [
    {
     "output_type": "execute_result",
     "data": {
      "text/plain": [
       "                     Difference\n",
       "Timestamp                      \n",
       "2020-06-20 08:00:00    0.767372\n",
       "2020-06-20 08:00:00    1.072205\n",
       "2020-06-20 09:00:00    0.822054\n",
       "2020-06-20 10:00:00    0.620544\n",
       "2020-06-20 11:00:00    0.802115"
      ],
      "text/html": "<div>\n<style scoped>\n    .dataframe tbody tr th:only-of-type {\n        vertical-align: middle;\n    }\n\n    .dataframe tbody tr th {\n        vertical-align: top;\n    }\n\n    .dataframe thead th {\n        text-align: right;\n    }\n</style>\n<table border=\"1\" class=\"dataframe\">\n  <thead>\n    <tr style=\"text-align: right;\">\n      <th></th>\n      <th>Difference</th>\n    </tr>\n    <tr>\n      <th>Timestamp</th>\n      <th></th>\n    </tr>\n  </thead>\n  <tbody>\n    <tr>\n      <th>2020-06-20 08:00:00</th>\n      <td>0.767372</td>\n    </tr>\n    <tr>\n      <th>2020-06-20 08:00:00</th>\n      <td>1.072205</td>\n    </tr>\n    <tr>\n      <th>2020-06-20 09:00:00</th>\n      <td>0.822054</td>\n    </tr>\n    <tr>\n      <th>2020-06-20 10:00:00</th>\n      <td>0.620544</td>\n    </tr>\n    <tr>\n      <th>2020-06-20 11:00:00</th>\n      <td>0.802115</td>\n    </tr>\n  </tbody>\n</table>\n</div>"
     },
     "metadata": {},
     "execution_count": 2
    }
   ],
   "source": [
    "df.head()"
   ]
  },
  {
   "cell_type": "code",
   "execution_count": 3,
   "metadata": {},
   "outputs": [
    {
     "output_type": "execute_result",
     "data": {
      "text/plain": [
       "                     Difference\n",
       "Timestamp                      \n",
       "2020-08-18 07:00:00    0.620242\n",
       "2020-08-18 08:00:00    0.567372\n",
       "2020-08-18 09:00:00    0.565861\n",
       "2020-08-18 10:00:00    0.506042\n",
       "2020-08-18 11:00:00    0.697583"
      ],
      "text/html": "<div>\n<style scoped>\n    .dataframe tbody tr th:only-of-type {\n        vertical-align: middle;\n    }\n\n    .dataframe tbody tr th {\n        vertical-align: top;\n    }\n\n    .dataframe thead th {\n        text-align: right;\n    }\n</style>\n<table border=\"1\" class=\"dataframe\">\n  <thead>\n    <tr style=\"text-align: right;\">\n      <th></th>\n      <th>Difference</th>\n    </tr>\n    <tr>\n      <th>Timestamp</th>\n      <th></th>\n    </tr>\n  </thead>\n  <tbody>\n    <tr>\n      <th>2020-08-18 07:00:00</th>\n      <td>0.620242</td>\n    </tr>\n    <tr>\n      <th>2020-08-18 08:00:00</th>\n      <td>0.567372</td>\n    </tr>\n    <tr>\n      <th>2020-08-18 09:00:00</th>\n      <td>0.565861</td>\n    </tr>\n    <tr>\n      <th>2020-08-18 10:00:00</th>\n      <td>0.506042</td>\n    </tr>\n    <tr>\n      <th>2020-08-18 11:00:00</th>\n      <td>0.697583</td>\n    </tr>\n  </tbody>\n</table>\n</div>"
     },
     "metadata": {},
     "execution_count": 3
    }
   ],
   "source": [
    "df.tail()"
   ]
  },
  {
   "cell_type": "code",
   "execution_count": null,
   "metadata": {},
   "outputs": [],
   "source": []
  }
 ]
}